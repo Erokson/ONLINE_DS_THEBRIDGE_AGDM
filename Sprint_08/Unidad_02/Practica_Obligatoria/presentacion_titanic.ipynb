# TITANIC NOTEBOOK CON GRÁFICOS PARA LA PRESENTACIÓN
```python
# Análisis del Titanic — Presentación Gráfica

import pandas as pd
import numpy as np
import matplotlib.pyplot as plt
import seaborn as sns

# Cargar dataset
df = pd.read_csv("./data/titanic.csv")
df.columns = df.columns.str.lower()

# Crear columnas necesarias
df["child"] = df["age"] < 18
df["log_poblacion"] = np.log10(df["fare"] + 1)  # no se usa aquí, pero de ejemplo si se quisiera usar log

# Análisis
tasa_mortalidad = 1 - df["survived"].mean()
supervivencia_sexo = df.groupby("sex")["survived"].mean()
supervivencia_niños_vs_adultos = df.groupby("child")["survived"].mean()
supervivencia_clase = df.groupby("pclass")["survived"].mean()
supervivencia_clase_sexo = df.groupby(["pclass", "sex"])["survived"].mean().unstack()
supervivencia_embarque = df.groupby("embarked")["survived"].mean()
clase_por_embarque = df.groupby("embarked")["pclass"].value_counts(normalize=True).unstack()

# Estilo gráfico
sns.set(style="whitegrid")

# Slide 1: Tasa de mortalidad
plt.figure()
plt.bar(["Supervivientes", "Fallecidos"], [1 - tasa_mortalidad, tasa_mortalidad], color=["green", "red"])
plt.title("Tasa de mortalidad en el Titanic")
plt.ylabel("Proporción")
plt.tight_layout()
plt.show()

# Slide 2: Supervivencia por sexo y niños
plt.figure()
pd.Series({
    "Mujeres": supervivencia_sexo["female"],
    "Hombres": supervivencia_sexo["male"],
    "Niños (<18)": supervivencia_niños_vs_adultos[True],
    "Adultos (≥18)": supervivencia_niños_vs_adultos[False]
}).plot(kind="bar", color=["orchid", "skyblue", "lime", "gray"])
plt.ylim(0, 1)
plt.ylabel("Tasa de Supervivencia")
plt.title("Supervivencia por sexo y edad")
plt.tight_layout()
plt.show()

# Slide 3: Supervivencia por clase
plt.figure()
supervivencia_clase.plot(kind="bar", color="goldenrod")
plt.title("Supervivencia según clase de pasaje")
plt.ylabel("Tasa de Supervivencia")
plt.xlabel("Clase")
plt.ylim(0, 1)
plt.tight_layout()
plt.show()

# Slide 4: Supervivencia por clase y sexo
plt.figure()
supervivencia_clase_sexo.plot(kind="bar")
plt.title("Supervivencia por clase y sexo")
plt.ylabel("Tasa de Supervivencia")
plt.ylim(0, 1)
plt.tight_layout()
plt.show()

# Slide 5: Puerto y clase
fig, ax = plt.subplots(1, 2, figsize=(14, 5))

supervivencia_embarque.plot(kind="bar", ax=ax[0], color="mediumseagreen")
ax[0].set_title("Tasa de Supervivencia por Puerto")
ax[0].set_ylabel("Tasa")
ax[0].set_ylim(0, 1)

clase_por_embarque.plot(kind="bar", stacked=True, ax=ax[1], colormap="viridis")
ax[1].set_title("Distribución de clases por puerto")
ax[1].set_ylabel("Proporción")
ax[1].legend(title="Clase")

plt.tight_layout()
plt.show()
```